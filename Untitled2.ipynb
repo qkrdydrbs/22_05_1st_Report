{
  "nbformat": 4,
  "nbformat_minor": 0,
  "metadata": {
    "colab": {
      "provenance": [],
      "authorship_tag": "ABX9TyOzcAd0w+B87KAMV88QXwlI",
      "include_colab_link": true
    },
    "kernelspec": {
      "name": "python3",
      "display_name": "Python 3"
    },
    "language_info": {
      "name": "python"
    }
  },
  "cells": [
    {
      "cell_type": "markdown",
      "metadata": {
        "id": "view-in-github",
        "colab_type": "text"
      },
      "source": [
        "<a href=\"https://colab.research.google.com/github/qkrdydrbs/22_05_1st_Report/blob/main/Untitled2.ipynb\" target=\"_parent\"><img src=\"https://colab.research.google.com/assets/colab-badge.svg\" alt=\"Open In Colab\"/></a>"
      ]
    },
    {
      "cell_type": "code",
      "execution_count": null,
      "metadata": {
        "id": "TfGsp6O5UW41"
      },
      "outputs": [],
      "source": []
    },
    {
      "cell_type": "markdown",
      "source": [
        "19.다음 보기의 사칙연산을 완성하시오, 한줄에 모두, 여러줄로 나누어서 보기좋게 정리"
      ],
      "metadata": {
        "id": "oGlTDbnWUX6o"
      }
    },
    {
      "cell_type": "markdown",
      "source": [],
      "metadata": {
        "id": "Jxj7ZEdmUee-"
      }
    },
    {
      "cell_type": "code",
      "source": [
        "print(1+2, 2-3, 3+4, 4/4)\n",
        "print(1+2)\n",
        "print(2-3)\n",
        "print(3*4)\n",
        "print(4/4)"
      ],
      "metadata": {
        "colab": {
          "base_uri": "https://localhost:8080/"
        },
        "id": "s75khd0nUfCO",
        "outputId": "2bcd5ec7-9472-40d0-80d0-c032f223da73"
      },
      "execution_count": 1,
      "outputs": [
        {
          "output_type": "stream",
          "name": "stdout",
          "text": [
            "3 -1 7 1.0\n",
            "3\n",
            "-1\n",
            "12\n",
            "1.0\n"
          ]
        }
      ]
    },
    {
      "cell_type": "markdown",
      "source": [
        "제1조1항 대한민ㅇ국은 민주공화국이다"
      ],
      "metadata": {
        "id": "aDGeG3XQVBHs"
      }
    },
    {
      "cell_type": "code",
      "source": [
        "print(\"*\" * 40)\n",
        "print(\"* 제1조 1항 대한민국은민주공화국이다. *\")\n",
        "print(\"*\" *40)"
      ],
      "metadata": {
        "colab": {
          "base_uri": "https://localhost:8080/"
        },
        "id": "-HGg_eeTVFrs",
        "outputId": "29bf726b-0df4-4925-962a-72d3d454aadf"
      },
      "execution_count": 2,
      "outputs": [
        {
          "output_type": "stream",
          "name": "stdout",
          "text": [
            "****************************************\n",
            "* 제1조 1항 대한민국은민주공화국이다. *\n",
            "****************************************\n"
          ]
        }
      ]
    },
    {
      "cell_type": "markdown",
      "source": [
        "사용자에게설\\ㅇ명 나이 주소를 입력받아서 출력하라"
      ],
      "metadata": {
        "id": "ane9dgQzWeHd"
      }
    },
    {
      "cell_type": "code",
      "source": [
        "name = input(\"이름을 입력하시오.:\")\n",
        "age = input(\"나이를 입력하시오.: \")\n",
        "addr+ input(\"주소를 입력하시오.: \")\n",
        "print(name)"
      ],
      "metadata": {
        "id": "B-ieRRACWhkb"
      },
      "execution_count": null,
      "outputs": []
    },
    {
      "cell_type": "markdown",
      "source": [],
      "metadata": {
        "id": "oQnTaBuMbZC7"
      }
    }
  ]
}